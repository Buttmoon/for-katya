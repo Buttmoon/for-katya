{
  "cells": [
    {
      "cell_type": "markdown",
      "metadata": {
        "id": "view-in-github",
        "colab_type": "text"
      },
      "source": [
        "<a href=\"https://colab.research.google.com/github/medeuza/-/blob/main/%D0%9F%D1%80%D0%BE%D0%B5%D0%BA%D1%82%D0%92%D0%B5%D0%BB%D0%BE%D1%81%D0%B8%D0%BF%D0%B5%D0%B4%D1%8B.ipynb\" target=\"_parent\"><img src=\"https://colab.research.google.com/assets/colab-badge.svg\" alt=\"Open In Colab\"/></a>"
      ]
    },
    {
      "cell_type": "code",
      "execution_count": null,
      "metadata": {
        "id": "cWfGkOdl-uy1"
      },
      "outputs": [],
      "source": [
        "import pandas as pd\n",
        "import matplotlib.pyplot as plt\n",
        "import numpy as np\n",
        "import seaborn as sns\n"
      ]
    },
    {
      "cell_type": "code",
      "execution_count": null,
      "metadata": {
        "id": "n-K6d_AI_Xof"
      },
      "outputs": [],
      "source": [
        "data = pd.read_csv(\"bike_buyers.csv\")"
      ]
    },
    {
      "cell_type": "code",
      "execution_count": null,
      "metadata": {
        "colab": {
          "base_uri": "https://localhost:8080/"
        },
        "id": "Pf8oDITNCUhX",
        "outputId": "6f236ab5-bcd3-4e5d-c189-e730c630fd69"
      },
      "outputs": [
        {
          "output_type": "stream",
          "name": "stdout",
          "text": [
            "<class 'pandas.core.frame.DataFrame'>\n",
            "RangeIndex: 1000 entries, 0 to 999\n",
            "Data columns (total 13 columns):\n",
            " #   Column            Non-Null Count  Dtype  \n",
            "---  ------            --------------  -----  \n",
            " 0   ID                1000 non-null   int64  \n",
            " 1   Marital Status    993 non-null    object \n",
            " 2   Gender            989 non-null    object \n",
            " 3   Income            994 non-null    float64\n",
            " 4   Children          992 non-null    float64\n",
            " 5   Education         1000 non-null   object \n",
            " 6   Occupation        1000 non-null   object \n",
            " 7   Home Owner        996 non-null    object \n",
            " 8   Cars              991 non-null    float64\n",
            " 9   Commute Distance  1000 non-null   object \n",
            " 10  Region            1000 non-null   object \n",
            " 11  Age               992 non-null    float64\n",
            " 12  Purchased Bike    1000 non-null   object \n",
            "dtypes: float64(4), int64(1), object(8)\n",
            "memory usage: 101.7+ KB\n"
          ]
        }
      ],
      "source": [
        "data.info()"
      ]
    },
    {
      "cell_type": "markdown",
      "source": [
        "# 1). Data cleanup"
      ],
      "metadata": {
        "id": "pHraxWfiKExE"
      }
    },
    {
      "cell_type": "markdown",
      "metadata": {
        "id": "IGiB4iDlPoQa"
      },
      "source": [
        "Remove rows with NaN:\n",
        "\n",
        "Deleting all \"unnecessary\" lines (where at least one empty value occurs)"
      ]
    },
    {
      "cell_type": "code",
      "execution_count": null,
      "metadata": {
        "id": "Dmxhq7GYDVPD"
      },
      "outputs": [],
      "source": [
        "data2 = data.dropna(axis=0)\n",
        "data2.info()"
      ]
    },
    {
      "cell_type": "markdown",
      "metadata": {
        "id": "aX0Bv9j3P56n"
      },
      "source": [
        " Сheck that columns have the correct data type\n",
        "\n",
        " changing all float64(), object() to int64(), string()"
      ]
    },
    {
      "cell_type": "code",
      "execution_count": null,
      "metadata": {
        "id": "uAcSD2WKEuNI"
      },
      "outputs": [],
      "source": [
        "data3 = data2.astype({'Marital Status': 'string', 'Gender': 'string', 'Income': 'int64', 'Children': 'int64', 'Education': 'string', 'Occupation': 'string', 'Home Owner': 'string', 'Cars': 'int64', 'Commute Distance': 'string', 'Region': 'string', 'Age': 'int64', 'Purchased Bike': 'string'})\n",
        "data3.info()"
      ]
    },
    {
      "cell_type": "markdown",
      "metadata": {
        "id": "csX_GUFZswp8"
      },
      "source": [
        "# 2). Descriptive statistics"
      ]
    },
    {
      "cell_type": "markdown",
      "metadata": {
        "id": "GzeuAXkOtVK0"
      },
      "source": [
        "Check the descriptive statistics of the dataset: mean, median, standard deviation to see the average rates of income, age, the number of cars and children of those, who buys bikes."
      ]
    },
    {
      "cell_type": "code",
      "execution_count": null,
      "metadata": {
        "id": "54Qxo5aQwLyi"
      },
      "outputs": [],
      "source": [
        "arr = ['Income', 'Children', 'Cars', 'Age']\n",
        "Mean = []\n",
        "Std = []\n",
        "Median = []"
      ]
    },
    {
      "cell_type": "code",
      "execution_count": null,
      "metadata": {
        "id": "iycC7hYJxxe7"
      },
      "outputs": [],
      "source": [
        "for i in arr:\n",
        "    Mean.append(data3[i].mean())\n",
        "    Std.append(data3[i].std())\n",
        "    Median.append(data3[i].median())"
      ]
    },
    {
      "cell_type": "code",
      "execution_count": null,
      "metadata": {
        "id": "xunKe_lKwe8y"
      },
      "outputs": [],
      "source": [
        "table = pd.DataFrame({'Mean':Mean, 'Std':Std, 'Median':Median})\n",
        "table = table.rename(index={0:'Income', 1:'Children', 2:'Cars', 3:'Age'})"
      ]
    },
    {
      "cell_type": "markdown",
      "source": [
        "I have created 'table' and assigned the Data Frame function from 'pandas' to this variable in order to print out the table with descriptive statistics."
      ],
      "metadata": {
        "id": "q728IfB7KmSJ"
      }
    },
    {
      "cell_type": "code",
      "execution_count": null,
      "metadata": {
        "id": "NB96tjLHeazY"
      },
      "outputs": [],
      "source": [
        "table"
      ]
    },
    {
      "cell_type": "markdown",
      "source": [
        "Еven more detailed statistics"
      ],
      "metadata": {
        "id": "qCSWsA0WLMxQ"
      }
    },
    {
      "cell_type": "code",
      "execution_count": null,
      "metadata": {
        "id": "ZJYnVgNEwjAP"
      },
      "outputs": [],
      "source": [
        "data3.describe()"
      ]
    },
    {
      "cell_type": "markdown",
      "source": [
        "# The hypothesis\n",
        "\n",
        "It can be assumed that the general image of a bike buyer includes the following characteristics:\n",
        "\n",
        "*   Income level - let's assume average earning\n",
        "*   Аge - teenagers or middle aged people\n",
        "*   Оccupation - clerical\n",
        "*   Commute Distance - most likely a bike is required for distances from 5-10 miles and absence of a car"
      ],
      "metadata": {
        "id": "C7tV1JiVCL1z"
      }
    },
    {
      "cell_type": "markdown",
      "metadata": {
        "id": "j2pKgJ4Yzl5w"
      },
      "source": [
        "# 3). Plots"
      ]
    },
    {
      "cell_type": "markdown",
      "source": [
        "Using this array of information about bicycle buyers, I tried to recreate the portrait of a bicycle buyer, study potential customers, learn about their features in order to select the bicycles they need as accurately as possible."
      ],
      "metadata": {
        "id": "4JveFSGvsAs8"
      }
    },
    {
      "cell_type": "markdown",
      "source": [
        "The provided code uses the library \"Matplotlib\" to create three subplots and draw pie charts"
      ],
      "metadata": {
        "id": "o2jbQBaiNOVx"
      }
    },
    {
      "cell_type": "code",
      "execution_count": null,
      "metadata": {
        "id": "8CV4sGMypTWE"
      },
      "outputs": [],
      "source": [
        "# Creating three subgraphs (graphs in a row)\n",
        "fig, axs = plt.subplots(1, 3, figsize=(15, 5))\n",
        "\n",
        "custom_colors = ['magenta', 'blueviolet', 'indigo', 'blueviolet', 'darkorchid']\n",
        "\n",
        "# Building a pie chart for each subgraph\n",
        "axs[0].pie(data3['Occupation'].value_counts().values, labels=data3['Occupation'].value_counts().index, autopct='%1.1f%%', startangle=90, colors = custom_colors)\n",
        "axs[1].set_title('Cars')\n",
        "axs[0].set_title('Occupation')\n",
        "\n",
        "axs[1].pie(data3['Cars'].value_counts().values, labels=data3['Cars'].value_counts().index, autopct='%1.1f%%', startangle=90, colors = custom_colors)\n",
        "axs[1].set_title('Cars')\n",
        "\n",
        "axs[2].pie(data3['Commute Distance'].value_counts().values, labels=data3['Commute Distance'].value_counts().index, autopct='%1.1f%%', startangle=90, colors = custom_colors)\n",
        "axs[2].set_title('Commute Distance')\n",
        "\n",
        "plt.show()"
      ]
    },
    {
      "cell_type": "markdown",
      "source": [
        "To visualize the subsequent graph I used \"Seaborn\" an additional aid for data visualization. With it's help, I made a box diagram for the variables 'Age' and 'Commute Distance' from the data. The box diagram allows you to visually assess the main statistical characteristics, such as the median, lower and upper quartiles, minimum and maximum sample values and outliers."
      ],
      "metadata": {
        "id": "7X50geceNjBK"
      }
    },
    {
      "cell_type": "code",
      "execution_count": null,
      "metadata": {
        "id": "q9KfIQY5GJ_Z"
      },
      "outputs": [],
      "source": [
        "plt.figure(figsize=(10, 5))\n",
        "\n",
        "# Creating a box diagram\n",
        "sns.boxplot(x=data['Age'], y=data['Commute Distance'], orient=\"h\", palette= ['magenta', 'blueviolet', 'indigo', 'blueviolet', 'magenta'])\n",
        "\n",
        "plt.grid()\n",
        "plt.show()"
      ]
    },
    {
      "cell_type": "markdown",
      "source": [
        "By the box plot above it can be stated that 10+ miles distance was commuted mostly by middle aged people (from 40 to 60 years), 5-10 miles were commuted by people aged from approximatelly 32 to 55 , being the most significant bar in the chart, while the least rates were for 0-1 miles."
      ],
      "metadata": {
        "id": "3V6Y4VEj1pOj"
      }
    },
    {
      "cell_type": "markdown",
      "source": [
        "In the table below I also use Matplotlib (plt.show) and Seaborne (sns.pairplot)"
      ],
      "metadata": {
        "id": "n8Y16CkYPtCm"
      }
    },
    {
      "cell_type": "code",
      "execution_count": null,
      "metadata": {
        "id": "jsEEYut_Xx0d"
      },
      "outputs": [],
      "source": [
        "keys = ['Cars', 'Children', 'Income', 'Gender']\n",
        "\n",
        "# Use the palette parameter in pairplot\n",
        "n = sns.pairplot(data[keys], hue='Gender', markers=[\"8\", \"*\"], palette = {'Male': 'mediumblue', 'Female': 'magenta'})\n",
        "\n",
        "plt.show()"
      ]
    },
    {
      "cell_type": "markdown",
      "source": [
        "In this graph it can be seen that, first of all, women have slightly less cars than men, both genders have similar pattern in both income and chirdren."
      ],
      "metadata": {
        "id": "uV7hCf1P1wRx"
      }
    },
    {
      "cell_type": "markdown",
      "metadata": {
        "id": "FrCP8wS00AYx"
      },
      "source": [
        "# 4). Detailed overview/Data transformation"
      ]
    },
    {
      "cell_type": "markdown",
      "source": [
        "For the next visualization of statistics, I need to change the data by adding new columns or converting previous columns"
      ],
      "metadata": {
        "id": "txmIQmONc2qE"
      }
    },
    {
      "cell_type": "markdown",
      "metadata": {
        "id": "CjOjdEn9q27p"
      },
      "source": [
        "Add \"Income per person\" column using lambda function"
      ]
    },
    {
      "cell_type": "code",
      "execution_count": null,
      "metadata": {
        "id": "vlmIk-rSqvnz"
      },
      "outputs": [],
      "source": [
        "data3['PeopleNumber'] = data3.apply(lambda x: 2 + x[\"Children\"] if x[\"Marital Status\"] == \"Married\" else 1+ x[\"Children\"], axis=1)\n",
        "\n",
        "data3[\"Income per person\"] = data3.apply(lambda x: x[\"Income\"] / x[\"PeopleNumber\"], axis=1)"
      ]
    },
    {
      "cell_type": "code",
      "execution_count": null,
      "metadata": {
        "id": "7kgDwvNot8ax"
      },
      "outputs": [],
      "source": [
        "data3.head()"
      ]
    },
    {
      "cell_type": "markdown",
      "metadata": {
        "id": "_ZLDGxMRz1Ci"
      },
      "source": [
        "Add column \"2Commute Distance\" using other functions"
      ]
    },
    {
      "cell_type": "code",
      "execution_count": null,
      "metadata": {
        "id": "Blp_FJ4_zNwm"
      },
      "outputs": [],
      "source": [
        "import random\n",
        "def rep(x):\n",
        "  if not(isinstance(x,str)):\n",
        "    return x\n",
        "  if \"Miles\" in x:\n",
        "    x = x.replace(\"Miles\", \"\")\n",
        "  x=x.replace(\"+\",\"\")\n",
        "  x=x.split(\"-\")\n",
        "  if len(x)==1:\n",
        "    return int(x[0])\n",
        "  else:\n",
        "    return  random.random() + random.randint(int(x[0]), int(x[1])-1)\n",
        "\n",
        "data3[\"2Commute Distance\"] = data3[\"Commute Distance\"].apply(rep)\n",
        "data3[\"2Commute Distance\"]"
      ]
    },
    {
      "cell_type": "markdown",
      "source": [
        "Now we draw a scatter plot with the help of new added columns"
      ],
      "metadata": {
        "id": "u44F9QT9eMNk"
      }
    },
    {
      "cell_type": "code",
      "execution_count": null,
      "metadata": {
        "colab": {
          "base_uri": "https://localhost:8080/",
          "height": 449
        },
        "id": "iDeouJ_90kuK",
        "outputId": "d1f6a892-8e49-4c2b-ec61-37cda9338c4f"
      },
      "outputs": [
        {
          "output_type": "display_data",
          "data": {
            "text/plain": [
              "<Figure size 640x480 with 1 Axes>"
            ],
            "image/png": "[encoded data removed]"
          },
          "metadata": {}
        }
      ],
      "source": [
        "# Draw a scatter plot\n",
        "scatter = data3[data3['Purchased Bike'] == 'Yes'].plot.scatter(x='Income per person', y='2Commute Distance', s=10, c='magenta')\n",
        "data3[data3['Purchased Bike'] == 'No'].plot.scatter(x='Income per person', y='2Commute Distance', s=10, c='mediumblue', ax=scatter)\n",
        "\n",
        "# Add legend\n",
        "plt.legend([\"Purchased Bike: Yes\", \"Purchased Bike: No\"], loc='upper right', markerscale=3)\n",
        "\n",
        "# Show the plot\n",
        "plt.show()"
      ]
    },
    {
      "cell_type": "markdown",
      "source": [
        "This scatterplot shows that people with low incomes (up to 20,000) are more interested in bicycles, while those with high incomes rarely buy bicycles (80,000+). It is also seen that those who buy bicycles buy them mainly for short distances (0-2 miles). There is a slight correlation between income and travel distance. The lower the income, the shorter the distance the consumer is interested in."
      ],
      "metadata": {
        "id": "wvTU5Nk12m5O"
      }
    },
    {
      "cell_type": "markdown",
      "source": [
        "Next, I want to present a graph of the population pyramid. To do this, I prepare data with separation on male/female"
      ],
      "metadata": {
        "id": "9T_kJl7CfEDZ"
      }
    },
    {
      "cell_type": "code",
      "source": [
        "male = data3[data3['Gender'] == \"Male\"].groupby(\"Age\").count()\n",
        "male[\"ID\"].to_numpy()\n",
        "ageM = male.index.to_numpy()\n",
        "ageM\n",
        "\n",
        "female = data3[data3['Gender'] == \"Female\"].groupby(\"Age\").count()\n",
        "female[\"ID\"].to_numpy()\n",
        "ageF = female.index.to_numpy()\n",
        "ageF"
      ],
      "metadata": {
        "id": "CNWngn78EmyJ"
      },
      "execution_count": null,
      "outputs": []
    },
    {
      "cell_type": "markdown",
      "source": [
        "Next, I build the graph using \"Matplotlib\" - to draw plots, setting labels, headings, legend, net and graph display, \"NumPy\" - to create an array of age values and set labels on the y axis and \"Pandas\" - for converting data into NumPy arrays and indexing:"
      ],
      "metadata": {
        "id": "hmkMp6qJgF7M"
      }
    },
    {
      "cell_type": "code",
      "source": [
        "ageM = male.index.to_numpy()\n",
        "ageF = female.index.to_numpy()\n",
        "male_population = male[\"ID\"].to_numpy()\n",
        "female_population = female[\"ID\"].to_numpy()\n",
        "\n",
        "# Invert the data of the male population to display them on the left side of the pyramid\n",
        "male_population = -male_population\n",
        "\n",
        "fig, ax = plt.subplots(figsize=(10, 8))\n",
        "\n",
        "# Creating a population pyramid graph\n",
        "ax.barh(ageM, male_population, height=0.5, label='Male', color='mediumblue')\n",
        "ax.barh(ageF, female_population, height=0.5, label='Female', color='magenta')\n",
        "\n",
        "# Adding a center line\n",
        "ax.vlines(0, ymin= min(ageM[0], ageF[0]), ymax= max(ageM[-1], ageF[-1]), color='gray')\n",
        "\n",
        "# Returning the x-axis for \"male\" to show positive values\n",
        "ax.set_xticks([ -25, 0, 25])\n",
        "ax.set_xticklabels([-25, 0, 25])\n",
        "\n",
        "ax.set_yticks(np.arange(25, 90, 5))\n",
        "ax.set_yticklabels(np.arange(25, 90, 5))\n",
        "\n",
        "# Setting labels\n",
        "ax.set_xlabel('Number of people')\n",
        "ax.set_ylabel('Age')\n",
        "ax.set_title('Age distribution')\n",
        "\n",
        "# In the upper right corner \"Males/Females\"\n",
        "ax.legend(loc='upper right')\n",
        "\n",
        "# Creating a net (сетка?)\n",
        "ax.grid(True, linestyle='--', which='both', color='gray', alpha=0.7)\n",
        "\n",
        "plt.show()"
      ],
      "metadata": {
        "id": "7kMEgOVOErPS"
      },
      "execution_count": null,
      "outputs": []
    },
    {
      "cell_type": "markdown",
      "source": [
        "The bar chart above depicts the distribution of people by their age and gender and it is clearly seen that most of those interested in purchasing bikes are in their forties and least interested are in late sixties."
      ],
      "metadata": {
        "id": "o0YBdBg1EyL6"
      }
    },
    {
      "cell_type": "markdown",
      "source": [
        "# In conclusion"
      ],
      "metadata": {
        "id": "7CXaaYpoiD0y"
      }
    },
    {
      "cell_type": "markdown",
      "source": [
        "Overall, the target audience are people from 40 to 50 years old. Both women and men, there is not much difference. It confirms my initial hypothesis\n",
        "Furthermore, This group includes people with proffecional or skilled manual occupations who have 2 or more cars per family, which does not confirm the preliminary hypothesis.\n",
        "The income of a potential buyer turned out to be low, up to 20,000. Which also turned out to be unexpected when analyzing the data.\n",
        "With this level of income, a bicycle is needed for short distances, up to 2 miles.\n",
        "\n",
        "Based on this data, you can make a list of suitable bicycle models. Most likely, it will be a bike for short distances, budget-friendly, without special external characteristics, gender-oriented.\n",
        "This analysis will help improve product promotion channels and create an individual offer for the bicycle market segment."
      ],
      "metadata": {
        "id": "gkyTQZREHLEr"
      }
    }
  ],
  "metadata": {
    "colab": {
      "collapsed_sections": [
        "y1hxroZGO2Jl",
        "csX_GUFZswp8",
        "j2pKgJ4Yzl5w"
      ],
      "provenance": [],
      "authorship_tag": "ABX9TyNdjhQ+cSfoLrATb3nCBq8d",
      "include_colab_link": true
    },
    "kernelspec": {
      "display_name": "Python 3",
      "name": "python3"
    },
    "language_info": {
      "name": "python"
    }
  },
  "nbformat": 4,
  "nbformat_minor": 0
}